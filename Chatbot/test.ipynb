{
 "cells": [
  {
   "cell_type": "code",
   "id": "initial_id",
   "metadata": {
    "collapsed": true,
    "ExecuteTime": {
     "end_time": "2025-04-21T17:32:31.014375Z",
     "start_time": "2025-04-21T17:32:23.202603Z"
    }
   },
   "source": [
    "from sentence_transformers import SentenceTransformer\n",
    "import pandas as pd\n",
    "from sklearn.metrics.pairwise import cosine_similarity"
   ],
   "outputs": [
    {
     "name": "stderr",
     "output_type": "stream",
     "text": [
      "E:\\Rahhal\\venv\\lib\\site-packages\\sentence_transformers\\cross_encoder\\CrossEncoder.py:13: TqdmWarning: IProgress not found. Please update jupyter and ipywidgets. See https://ipywidgets.readthedocs.io/en/stable/user_install.html\n",
      "  from tqdm.autonotebook import tqdm, trange\n"
     ]
    }
   ],
   "execution_count": 3
  },
  {
   "metadata": {
    "jupyter": {
     "is_executing": true
    }
   },
   "cell_type": "code",
   "source": "!pip install --upgrade referencing jupyter_events jupyter_server jupyterlab_server jupyterlab",
   "id": "5b560e541022812f",
   "outputs": [],
   "execution_count": null
  },
  {
   "metadata": {
    "ExecuteTime": {
     "end_time": "2025-04-21T17:31:06.076884Z",
     "start_time": "2025-04-21T17:30:58.434177Z"
    }
   },
   "cell_type": "code",
   "source": "!python -m venv notebook_env",
   "id": "e911a0fad0392066",
   "outputs": [],
   "execution_count": 1
  },
  {
   "metadata": {
    "ExecuteTime": {
     "end_time": "2025-04-21T17:32:05.282788Z",
     "start_time": "2025-04-21T17:32:03.624209Z"
    }
   },
   "cell_type": "code",
   "source": [
    "!pip install sentence-transformers pandas scikit-learn# Create a temporary requirements file\n",
    "!echo \"sentence-transformers\\npandas\\nscikit-learn\\njupyter\\nnotebook\" > notebook_requirements.txt\n",
    "\n",
    "# Install those requirements in isolation\n",
    "!pip install -r notebook_requirements.txt --ignore-installed"
   ],
   "id": "3650c07a0132ced",
   "outputs": [
    {
     "name": "stderr",
     "output_type": "stream",
     "text": [
      "ERROR: Invalid requirement: 'scikit-learn#': Expected end or semicolon (after name and no valid version specifier)\n",
      "    scikit-learn#\n",
      "                ^\n",
      "ERROR: Invalid requirement: '\"sentence-transformers\\\\npandas\\\\nscikit-learn\\\\njupyter\\\\nnotebook\"': Expected package name at the start of dependency specifier\n",
      "    \"sentence-transformers\\npandas\\nscikit-learn\\njupyter\\nnotebook\"\n",
      "    ^ (from line 1 of notebook_requirements.txt)\n",
      "Hint: It looks like a path. File '\"sentence-transformers\\npandas\\nscikit-learn\\njupyter\\nnotebook\"' does not exist.\n"
     ]
    }
   ],
   "execution_count": 2
  },
  {
   "metadata": {
    "ExecuteTime": {
     "end_time": "2025-04-21T17:33:33.689316Z",
     "start_time": "2025-04-21T17:33:33.228243Z"
    }
   },
   "cell_type": "code",
   "source": "model=SentenceTransformer('Fine-tuning-SBERT\\\\fine-tuned-sbert-for-tourism-data')",
   "id": "d7c343aae8901ed",
   "outputs": [
    {
     "name": "stderr",
     "output_type": "stream",
     "text": [
      "You try to use a model that was created with version 3.4.1, however, your version is 3.2.1. This might cause unexpected behavior or errors. In that case, try to update to the latest version.\n",
      "\n",
      "\n",
      "\n"
     ]
    }
   ],
   "execution_count": 4
  },
  {
   "metadata": {
    "ExecuteTime": {
     "end_time": "2025-04-21T17:34:00.875545Z",
     "start_time": "2025-04-21T17:34:00.859662Z"
    }
   },
   "cell_type": "code",
   "source": [
    "text1= \"Karnak Temple\"\n",
    "text2= \"Temples\"\n",
    "text3= \"The largest temple complex in the world\""
   ],
   "id": "549568e0abf92803",
   "outputs": [],
   "execution_count": 5
  },
  {
   "metadata": {
    "ExecuteTime": {
     "end_time": "2025-04-21T17:34:12.488228Z",
     "start_time": "2025-04-21T17:34:12.400004Z"
    }
   },
   "cell_type": "code",
   "source": [
    "text1_encoding = model.encode(text1)\n",
    "text2_encoding = model.encode(text2)\n",
    "text3_encoding= model.encode(text3)\n"
   ],
   "id": "1687d2fd25074db",
   "outputs": [],
   "execution_count": 6
  },
  {
   "metadata": {
    "ExecuteTime": {
     "end_time": "2025-04-21T17:34:27.305616Z",
     "start_time": "2025-04-21T17:34:27.276746Z"
    }
   },
   "cell_type": "code",
   "source": "cosine_similarity([text1_encoding], [text2_encoding])",
   "id": "cb3f8f9082a8e7e1",
   "outputs": [
    {
     "data": {
      "text/plain": [
       "array([[0.71090436]], dtype=float32)"
      ]
     },
     "execution_count": 7,
     "metadata": {},
     "output_type": "execute_result"
    }
   ],
   "execution_count": 7
  },
  {
   "metadata": {
    "ExecuteTime": {
     "end_time": "2025-04-21T17:34:45.954741Z",
     "start_time": "2025-04-21T17:34:45.942860Z"
    }
   },
   "cell_type": "code",
   "source": "cosine_similarity([text1_encoding], [text3_encoding])",
   "id": "a197fb367dcc06ef",
   "outputs": [
    {
     "data": {
      "text/plain": [
       "array([[0.66788256]], dtype=float32)"
      ]
     },
     "execution_count": 8,
     "metadata": {},
     "output_type": "execute_result"
    }
   ],
   "execution_count": 8
  },
  {
   "metadata": {
    "ExecuteTime": {
     "end_time": "2025-04-21T17:34:54.147464Z",
     "start_time": "2025-04-21T17:34:54.133462Z"
    }
   },
   "cell_type": "code",
   "source": "cosine_similarity([text2_encoding],[text3_encoding])",
   "id": "b62f2827c7e817df",
   "outputs": [
    {
     "data": {
      "text/plain": [
       "array([[0.76173747]], dtype=float32)"
      ]
     },
     "execution_count": 9,
     "metadata": {},
     "output_type": "execute_result"
    }
   ],
   "execution_count": 9
  },
  {
   "metadata": {},
   "cell_type": "code",
   "outputs": [],
   "execution_count": null,
   "source": "",
   "id": "1df6b14a94896d67"
  }
 ],
 "metadata": {
  "kernelspec": {
   "display_name": "Python 3",
   "language": "python",
   "name": "python3"
  },
  "language_info": {
   "codemirror_mode": {
    "name": "ipython",
    "version": 2
   },
   "file_extension": ".py",
   "mimetype": "text/x-python",
   "name": "python",
   "nbconvert_exporter": "python",
   "pygments_lexer": "ipython2",
   "version": "2.7.6"
  }
 },
 "nbformat": 4,
 "nbformat_minor": 5
}
